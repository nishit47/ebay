{
 "cells": [
  {
   "cell_type": "code",
   "execution_count": 1,
   "id": "2505aff5",
   "metadata": {},
   "outputs": [],
   "source": [
    "from bs4 import BeautifulSoup\n",
    "import requests\n",
    "from csv import writer\n",
    "\n",
    "import re\n",
    "\n",
    "import pandas as pd\n",
    "from pandas_profiling import ProfileReport"
   ]
  },
  {
   "cell_type": "code",
   "execution_count": 2,
   "id": "bbbd8cb1",
   "metadata": {},
   "outputs": [],
   "source": [
    "url=\"https://www.ebay.com/sch/i.html?_from=R40&_nkw=ps5&_sacat=0&LH_TitleDesc=0&rt=nc&LH_All=1\"\n",
    "page=requests.get(url)\n",
    "soup= BeautifulSoup(page.content, 'html.parser')\n",
    "lists=soup.find_all('div', class_=\"s-item__info clearfix\")"
   ]
  },
  {
   "cell_type": "code",
   "execution_count": 13,
   "id": "e308e938",
   "metadata": {},
   "outputs": [
    {
     "name": "stdout",
     "output_type": "stream",
     "text": [
      "['Shop on eBay', None]\n",
      "['PS5 PlayStation 5 Sony CFI-1100A CFI-1100B Console NEW Ship fast', None]\n",
      "['Sony PS5 Digital Edition Console - White', <span class=\"s-item__time\" id=\"s0-62-10-6-3-listing2-item-9-1-22[1[1[0]]]-2-0\"><span class=\"clipped\">Time left</span><span class=\"s-item__time-left\">1d 6h left</span></span>]\n",
      "['Sony PS5 Digital Edition Console - White', <span class=\"s-item__time\" id=\"s0-62-10-6-3-listing3-item-9-1-22[1[1[0]]]-2-0\"><span class=\"clipped\">Time left</span><span class=\"s-item__time-left\">5d 6h left</span></span>]\n",
      "['PS5 disc edition, two controllers and headset', <span class=\"s-item__time s-item__time--urgent\" id=\"s0-62-10-6-3-listing4-item-9-1-22[1[1[0]]]-2-0\"><span class=\"clipped\">Time left</span><span class=\"s-item__time-left\">28m left</span></span>]\n",
      "['Sony PlayStation 5 PS5 Console Disc Version *NEW* FREE SHIPPING SAME/NEXT DAY!', None]\n",
      "['Sony PS5 Blu-ray Edition Games Console-White', None]\n",
      "['Sony PlayStation 5 Disc Console PS5 White BRAND NEW IN HAND SHIPS FAST', None]\n",
      "['Sony PS5 Blu-Ray Edition Console - White CFI-1115A Barely played !!! playstation', <span class=\"s-item__time\" id=\"s0-62-10-6-3-listing8-item-9-1-22[1[1[0]]]-2-0\"><span class=\"clipped\">Time left</span><span class=\"s-item__time-left\">5d 13h left</span></span>]\n",
      "['ps5 console disc version ', None]\n",
      "['New PS5 Sony Playstation 5 Console Disc - SEALED - FAST SAME DAY FREE SHIPPING', None]\n",
      "['Sony PS5 Standard Edition Console - White ( 825 GB ) New', <span class=\"s-item__time\" id=\"s0-62-10-6-3-listing11-item-9-1-22[1[2[0]]]-2-0\"><span class=\"clipped\">Time left</span><span class=\"s-item__time-left\">4d 5h left</span></span>]\n",
      "['Sony PS5 Blu-Ray Edition Console - White', <span class=\"s-item__time\" id=\"s0-62-10-6-3-listing12-item-9-1-22[1[1[0]]]-2-0\"><span class=\"clipped\">Time left</span><span class=\"s-item__time-left\">7d 7h left</span></span>]\n",
      "['PS5 Sony PlayStation 5 Console Disc Bundle BRAND NEW SHIPS TODAY UPS EXPEDITED', None]\n",
      "['Sony PS5 Blu-Ray Edition Console - White', <span class=\"s-item__time\" id=\"s0-62-10-6-3-listing14-item-9-1-22[1[1[0]]]-2-0\"><span class=\"clipped\">Time left</span><span class=\"s-item__time-left\">2d 9h left</span></span>]\n",
      "['Sony PS5 Blu-Ray Edition Console - White', None]\n",
      "['Sony PlayStation 5 Disk-PS5 Horizon Forbidden West + Uncharted Legacy Bundle', <span class=\"s-item__time s-item__time--urgent\" id=\"s0-62-10-6-3-listing16-item-9-1-22[1[1[0]]]-2-0\"><span class=\"clipped\">Time left</span><span class=\"s-item__time-left\">38m left</span></span>]\n",
      "['SONY PlayStation 5 Console Disc Version - BRAND NEW - 🚚💨IN HAND', None]\n",
      "['Sony PS5 Digital Edition Console - White Bundle W Extra Controller and Camera', None]\n",
      "['Sony Playstation 5 (PS5) DIGITAL EDITION  Console', None]\n",
      "['Sony PlayStation 5 Disc Edition Console PS5 - NEW - IN HAND- Ships FREE', None]\n",
      "['Sony PS5 Blu-Ray Edition Console - White', <span class=\"s-item__time\" id=\"s0-62-10-6-3-listing21-item-9-1-22[1[1[0]]]-2-0\"><span class=\"clipped\">Time left</span><span class=\"s-item__time-left\">9d 9h left</span></span>]\n",
      "['Playstation 5 (PS5) Disc Edition Console *Brand New Sealed* SAME DAY EXPRESS', None]\n",
      "['PS5 PlayStation 5 Sony CFI-1000A,B CFI-1100A,B Console Uesd Ship fast(Near Mint)', None]\n",
      "['Brand New Sony Playstation 5 (PS5) DIGITAL EDITION | SAME DAY EXPRESS WARRANTY', None]\n",
      "['NEW SONY PLAYSTATION 5 (PS5) CONSOLE - DIGITAL\\xa0EDITION - FAST FREE SHIPPING', None]\n",
      "['Fantastic Playstation 5 Brand New with Warranty and accessories shall...', <span class=\"s-item__time s-item__time--soon\" id=\"s0-62-10-6-3-listing26-item-9-1-22[1[1[0]]]-2-0\"><span class=\"clipped\">Time left</span><span class=\"s-item__time-left\">10h 48m left</span></span>]\n",
      "['Sony Playstation 5 Disc Version PS5 Disc Video Game Console Japan Import - New', None]\n",
      "['Brand New Sony Playstation 5 (PS5) DIGITAL\\xa0EDITION | SAME DAY EXPRESS WARRANTY', None]\n",
      "['Sony PlayStation 5 Disk Edition - White | PS5 Console ✅ Trusted seller ✅ Express', None]\n",
      "['Sony Playstation 5 PS5 DISC Edition Console - ✅SAME DAY EXPRESS DISPATCH✅', None]\n",
      "['Sony PS5 Digital Edition Console - White', None]\n",
      "['PAY $919 BRAND NEW PlayStation 5 PS5 DIGITAL Edition EXPRESS POST SHIPPING NOW', None]\n",
      "['Sony PS5 Blu-Ray Edition Console - White', None]\n",
      "['Sony Playstation 5 PS5 Disc Edition Bluy RAY Available Now Dealer Invoice', None]\n",
      "['Sony ps5 digital edition + 1 gamepad', <span class=\"s-item__time\" id=\"s0-62-10-6-3-listing35-item-9-1-22[1[1[0]]]-2-0\"><span class=\"clipped\">Time left</span><span class=\"s-item__time-left\">4d 7h left</span></span>]\n",
      "['Sony Playstation 5 Digital Edition Disc Version PS5 Console[BRAND NEW][FREESHIP]', None]\n",
      "['BRAND NEW Sony PS5 Blu-Ray Edition Console - White (SHIPS FREE ASAP)', None]\n",
      "['Sony PS5 Blu-Ray Edition Console - White', <span class=\"s-item__time\" id=\"s0-62-10-6-3-listing38-item-9-1-22[1[1[0]]]-2-0\"><span class=\"clipped\">Time left</span><span class=\"s-item__time-left\">6d 20h left</span></span>]\n",
      "['Sony PlayStation 5 PS5 Disc Edition Console ✅ BRAND NEW ✅', None]\n",
      "['✅Sony PlayStation 5 PS5 Disc Edition Console! BRAND NEW! UPS NEXT DAY DISPATCH!✅', None]\n",
      "['Sony PlayStation 5 Console Disc Version (PS5) BRAND NEW & SEALED ✅ SHIPS TODAY ✅', None]\n",
      "['BRAND NEW SONY PS5 PlayStation 5 Disc AU WARRANTY IN STOCK EXPRESS POST', None]\n",
      "['Sony PlayStation 5🔥PS5 Digital Edition Console🎮 New&Sealed ✅ ‼️‼️', None]\n",
      "['Sony PS5 Blu-Ray Edition Console - White Brand New SEALED', None]\n",
      "['🔥 Sony PlayStation 5 Console Disc Version PS5 🔥 IN HAND - BRAND NEW IN BOX!!', <span class=\"s-item__time\" id=\"s0-62-10-6-3-listing45-item-9-1-22[1[1[0]]]-2-0\"><span class=\"clipped\">Time left</span><span class=\"s-item__time-left\">4d 10h left</span></span>]\n",
      "['✅Sony PlayStation 5 PS5 Digital Edition Console - Brand New & Sealed ✅ TRUSTED', None]\n",
      "['Sony PS5 Digital Edition Console - White', None]\n",
      "['Sony PS5 Digital Edition Console - White', None]\n",
      "['Sony PS5 Blu-Ray Edition Console - White', <span class=\"s-item__time\" id=\"s0-62-10-6-3-listing49-item-9-1-22[1[1[0]]]-2-0\"><span class=\"clipped\">Time left</span><span class=\"s-item__time-left\">3d 18h left</span></span>]\n",
      "['Sony playstation 5 (ps5) standard with 2 games, 1 controller and accessories', <span class=\"s-item__time\" id=\"s0-62-10-6-3-listing50-item-9-1-22[1[1[0]]]-2-0\"><span class=\"clipped\">Time left</span><span class=\"s-item__time-left\">2d 7h left</span></span>]\n",
      "['PlayStation 5 - Disk Edition', <span class=\"s-item__time\" id=\"s0-62-10-6-3-listing51-item-9-1-22[1[1[0]]]-2-0\"><span class=\"clipped\">Time left</span><span class=\"s-item__time-left\">6d 17h left</span></span>]\n",
      "['Sony PS5 Blu-Ray Edition Console - White', <span class=\"s-item__time\" id=\"s0-62-10-6-3-listing52-item-9-1-22[1[1[0]]]-2-0\"><span class=\"clipped\">Time left</span><span class=\"s-item__time-left\">6d 20h left</span></span>]\n",
      "['Sony PS5 Digital Edition Console - White', None]\n",
      "['Sony PS5 Blu-Ray Edition Console - White', <span class=\"s-item__time\" id=\"s0-62-10-6-3-listing54-item-9-1-22[1[1[0]]]-2-0\"><span class=\"clipped\">Time left</span><span class=\"s-item__time-left\">6d 12h left</span></span>]\n",
      "['Sony PS5 Blu-Ray Disc Edition', <span class=\"s-item__time\" id=\"s0-62-10-6-3-listing55-item-9-1-22[1[1[0]]]-2-0\"><span class=\"clipped\">Time left</span><span class=\"s-item__time-left\">2d 7h left</span></span>]\n",
      "['Sony PS5 Blu-Ray Edition Console - White', None]\n",
      "['Sony PS5 Blu-Ray Edition Console - White', <span class=\"s-item__time\" id=\"s0-62-10-6-3-listing57-item-9-1-22[1[1[0]]]-2-0\"><span class=\"clipped\">Time left</span><span class=\"s-item__time-left\">6d 14h left</span></span>]\n",
      "['Sony PS5 Digital Edition Console - White', None]\n",
      "['Sony ps5 Blu-ray Edition Console-White', <span class=\"s-item__time s-item__time--soon\" id=\"s0-62-10-6-3-listing59-item-9-1-22[1[1[0]]]-2-0\"><span class=\"clipped\">Time left</span><span class=\"s-item__time-left\">13h 14m left</span></span>]\n",
      "['Sony ps5 blu-ray edition console-white', <span class=\"s-item__time\" id=\"s0-62-10-6-3-listing60-item-9-1-22[1[1[0]]]-2-0\"><span class=\"clipped\">Time left</span><span class=\"s-item__time-left\">2d 1h left</span></span>]\n",
      "['Sony PS5 Blu-Ray Edition Console - White', <span class=\"s-item__time\" id=\"s0-62-10-6-3-listing61-item-9-1-22[1[1[0]]]-2-0\"><span class=\"clipped\">Time left</span><span class=\"s-item__time-left\">6d 18h left</span></span>]\n",
      "['Sony ps5 blu-ray edition console-white', <span class=\"s-item__time\" id=\"s0-62-10-6-3-listing62-item-9-1-22[1[1[0]]]-2-0\"><span class=\"clipped\">Time left</span><span class=\"s-item__time-left\">6d left</span></span>]\n",
      "['Sony Playstation 5 PS5 DISC Edition Console - ✅SAME DAY EXPRESS DISPATCH✅', <span class=\"s-item__time\" id=\"s0-62-10-6-3-listing63-item-9-1-22[1[1[0]]]-2-0\"><span class=\"clipped\">Time left</span><span class=\"s-item__time-left\">5d 15h left</span></span>]\n",
      "['Sony PS5 Blu-Ray Edition Console - White', <span class=\"s-item__time\" id=\"s0-62-10-6-3-listing64-item-9-1-22[1[1[0]]]-2-0\"><span class=\"clipped\">Time left</span><span class=\"s-item__time-left\">6d 15h left</span></span>]\n",
      "['Sony PlayStation PS5 Disc Edition Console BRAND NEW SEALED ✅ NEXT DAY DELIVERY🚚', <span class=\"s-item__time s-item__time--soon\" id=\"s0-62-10-6-3-listing65-item-9-1-22[1[1[0]]]-2-0\"><span class=\"clipped\">Time left</span><span class=\"s-item__time-left\">14h 44m left</span></span>]\n",
      "['Sony PS5 Digital Edition Console - White', <span class=\"s-item__time\" id=\"s0-62-10-6-3-listing66-item-9-1-22[1[1[0]]]-2-0\"><span class=\"clipped\">Time left</span><span class=\"s-item__time-left\">3d 17h left</span></span>]\n",
      "['Sony PS5 Blu-Ray Edition Console - White', <span class=\"s-item__time\" id=\"s0-62-10-6-3-listing67-item-9-1-22[1[1[0]]]-2-0\"><span class=\"clipped\">Time left</span><span class=\"s-item__time-left\">6d 9h left</span></span>]\n",
      "['SONY PlayStation 5 Console Disc Version - BRAND NEW -  PS5- FAST SHIPPING 🔥', None]\n",
      "['Sony PS5 Blu-Ray Edition Console - White', None]\n"
     ]
    }
   ],
   "source": [
    "for list in lists:\n",
    "    name=list.h3.text.replace(\"New Listing\",\"\")\n",
    "    bidEnd=list.find('span', class_=\"s-item__time\")\n",
    "    data=[name, bidEnd]\n",
    "    print(data)\n",
    "    "
   ]
  },
  {
   "cell_type": "code",
   "execution_count": null,
   "id": "c0d3e153",
   "metadata": {},
   "outputs": [],
   "source": []
  }
 ],
 "metadata": {
  "kernelspec": {
   "display_name": "Python 3 (ipykernel)",
   "language": "python",
   "name": "python3"
  },
  "language_info": {
   "codemirror_mode": {
    "name": "ipython",
    "version": 3
   },
   "file_extension": ".py",
   "mimetype": "text/x-python",
   "name": "python",
   "nbconvert_exporter": "python",
   "pygments_lexer": "ipython3",
   "version": "3.9.7"
  }
 },
 "nbformat": 4,
 "nbformat_minor": 5
}
